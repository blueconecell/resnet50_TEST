{
 "cells": [
  {
   "cell_type": "code",
   "execution_count": 1,
   "id": "639535b3",
   "metadata": {},
   "outputs": [
    {
     "name": "stdout",
     "output_type": "stream",
     "text": [
      "Requirement already satisfied: torch in c:\\anaconda\\lib\\site-packages (1.12.1)\n",
      "Requirement already satisfied: typing-extensions in c:\\anaconda\\lib\\site-packages (from torch) (3.10.0.2)\n"
     ]
    }
   ],
   "source": [
    "!pip install torch"
   ]
  },
  {
   "cell_type": "code",
   "execution_count": 2,
   "id": "d0f1617a",
   "metadata": {},
   "outputs": [
    {
     "name": "stdout",
     "output_type": "stream",
     "text": [
      "Requirement already satisfied: torchvision in c:\\anaconda\\lib\\site-packages (0.13.1)\n",
      "Requirement already satisfied: requests in c:\\anaconda\\lib\\site-packages (from torchvision) (2.26.0)\n",
      "Requirement already satisfied: numpy in c:\\anaconda\\lib\\site-packages (from torchvision) (1.20.3)\n",
      "Requirement already satisfied: typing-extensions in c:\\anaconda\\lib\\site-packages (from torchvision) (3.10.0.2)\n",
      "Requirement already satisfied: torch==1.12.1 in c:\\anaconda\\lib\\site-packages (from torchvision) (1.12.1)\n",
      "Requirement already satisfied: pillow!=8.3.*,>=5.3.0 in c:\\anaconda\\lib\\site-packages (from torchvision) (8.4.0)\n",
      "Requirement already satisfied: charset-normalizer~=2.0.0 in c:\\anaconda\\lib\\site-packages (from requests->torchvision) (2.0.4)\n",
      "Requirement already satisfied: idna<4,>=2.5 in c:\\anaconda\\lib\\site-packages (from requests->torchvision) (3.2)\n",
      "Requirement already satisfied: urllib3<1.27,>=1.21.1 in c:\\anaconda\\lib\\site-packages (from requests->torchvision) (1.26.7)\n",
      "Requirement already satisfied: certifi>=2017.4.17 in c:\\anaconda\\lib\\site-packages (from requests->torchvision) (2021.10.8)\n"
     ]
    }
   ],
   "source": [
    "!pip install torchvision"
   ]
  },
  {
   "cell_type": "code",
   "execution_count": 3,
   "id": "a1750cf4",
   "metadata": {},
   "outputs": [],
   "source": [
    "import torch\n",
    "import torchvision\n",
    "from torchvision import transforms # 이미지 데이터 transform\n",
    "from torch.utils.data import DataLoader # 이미지 데이터 로더\n",
    "import os\n",
    "import glob"
   ]
  },
  {
   "cell_type": "code",
   "execution_count": 4,
   "id": "677a4d38",
   "metadata": {},
   "outputs": [],
   "source": [
    "device = 'cuda' if torch.cuda.is_available() else 'cpu'\n",
    "\n",
    "torch.manual_seed(777)\n",
    "if device == 'cuda':\n",
    "    torch.cuda.manual_seed_all(777)"
   ]
  },
  {
   "cell_type": "code",
   "execution_count": 5,
   "id": "36e0bacb",
   "metadata": {},
   "outputs": [],
   "source": [
    "# 경로 지정\n",
    "\n",
    "train_path = 'C:/Users/User/Desktop/work/project2/ML_study_material/train'\n",
    "test_path = 'C:/Users/User/Desktop/work/project2/ML_study_material/test'\n",
    "\n",
    "A_dir = '/A/'\n",
    "B_dir = '/B/'\n",
    "C_dir = '/C/'"
   ]
  },
  {
   "cell_type": "code",
   "execution_count": 6,
   "id": "b7bf43a7",
   "metadata": {},
   "outputs": [],
   "source": [
    "resize_trans = transforms.Compose([\n",
    "                                   transforms.Resize((224,224)),\n",
    "                                   transforms.ToTensor()\n",
    "])"
   ]
  },
  {
   "cell_type": "code",
   "execution_count": 7,
   "id": "0d64b93a",
   "metadata": {},
   "outputs": [],
   "source": [
    "resize_train = torchvision.datasets.ImageFolder(root=train_path, transform = resize_trans)\n",
    "resize_test = torchvision.datasets.ImageFolder(root=test_path, transform = resize_trans)"
   ]
  },
  {
   "cell_type": "code",
   "execution_count": 8,
   "id": "91c694ad",
   "metadata": {},
   "outputs": [
    {
     "data": {
      "text/plain": [
       "torch.Size([3, 224, 224])"
      ]
     },
     "execution_count": 8,
     "metadata": {},
     "output_type": "execute_result"
    }
   ],
   "source": [
    "resize_train[0][0].shape"
   ]
  },
  {
   "cell_type": "code",
   "execution_count": 9,
   "id": "4be5f718",
   "metadata": {},
   "outputs": [
    {
     "data": {
      "text/plain": [
       "array([0.3622457 , 0.43432653, 0.55683714], dtype=float32)"
      ]
     },
     "execution_count": 9,
     "metadata": {},
     "output_type": "execute_result"
    }
   ],
   "source": [
    "import numpy as np\n",
    "np.mean(resize_train[0][0].numpy(),axis=(1,2)) # numpy로 바꾸고, axis = 1,2 mean으로 RGB mean/std 뽑기"
   ]
  },
  {
   "cell_type": "code",
   "execution_count": 10,
   "id": "d04e034f",
   "metadata": {},
   "outputs": [],
   "source": [
    "def get_mean_std(dataset):\n",
    "    meanRGB = [np.mean(image.numpy(), axis=(1,2)) for image,_ in dataset]\n",
    "    stdRGB = [np.std(image.numpy(), axis=(1,2)) for image,_ in dataset]\n",
    "\n",
    "    meanR = np.mean([m[0] for m in meanRGB])\n",
    "    meanG = np.mean([m[1] for m in meanRGB])\n",
    "    meanB = np.mean([m[2] for m in meanRGB])\n",
    "\n",
    "    stdR = np.mean([s[0] for s in stdRGB])\n",
    "    stdG = np.mean([s[1] for s in stdRGB])\n",
    "    stdB = np.mean([s[2] for s in stdRGB])\n",
    "\n",
    "    print(meanR, meanG, meanB)\n",
    "    print(stdR, stdG, stdB)"
   ]
  },
  {
   "cell_type": "code",
   "execution_count": 11,
   "id": "dd1ee93a",
   "metadata": {},
   "outputs": [],
   "source": [
    "# normalization 준비\n",
    "\n",
    "resize_train_mean=[0.17191947, 0.41128376, 0.56153077]\n",
    "resize_train_std=[0.16150557, 0.16577946, 0.16063999]\n",
    "\n",
    "resize_test_mean=[0.15918699, 0.410329, 0.55247366]\n",
    "resize_test_std=[0.1542138, 0.16098696, 0.15552239]"
   ]
  },
  {
   "cell_type": "code",
   "execution_count": 12,
   "id": "cc32ffc1",
   "metadata": {},
   "outputs": [],
   "source": [
    "transform_train = transforms.Compose([\n",
    "    transforms.Resize((224, 224)), # 이미지 resize\n",
    "    transforms.RandomCrop(124), # 이미지를 랜덤으로 크롭\n",
    "    transforms.ColorJitter(brightness=0.2, contrast=0.2, saturation=0.2, hue=0.2), # 이미지 지터링(밝기, 대조, 채비, 색조)\n",
    "    transforms.RandomHorizontalFlip(p = 1), # p확률로 이미지 좌우반전\n",
    "    transforms.RandomVerticalFlip(p = 1), # p확률로 상하반전\n",
    "    transforms.ToTensor(),\n",
    "    transforms.Normalize(resize_train_mean, resize_train_std)\n",
    "])\n",
    "\n",
    "transform_test = transforms.Compose([\n",
    "    transforms.Resize((224, 224)), \n",
    "    transforms.ToTensor(),\n",
    "    transforms.Normalize(resize_test_mean, resize_test_std)\n",
    "])\n",
    "\n",
    "trainset = torchvision.datasets.ImageFolder(root=train_path, transform=transform_train)\n",
    "testset = torchvision.datasets.ImageFolder(root=test_path, transform=transform_test)\n"
   ]
  },
  {
   "cell_type": "code",
   "execution_count": 13,
   "id": "307d8a83",
   "metadata": {},
   "outputs": [],
   "source": [
    "import matplotlib.pyplot as plt\n",
    "import numpy as np\n",
    "\n",
    "%matplotlib inline\n",
    "\n",
    "def imshow(img, mean, std):\n",
    "    npimg = img.numpy()\n",
    "    img = np.transpose( npimg, (1, 2, 0) )\n",
    "    img = img * std + mean # renormalize\n",
    "    img = img.clip(0, 1)\n",
    "    plt.imshow(img)\n",
    "    plt.show()\n",
    "\n",
    "\n",
    "none_trans = torchvision.datasets.ImageFolder(root=train_path, transform=None)"
   ]
  },
  {
   "cell_type": "code",
   "execution_count": 14,
   "id": "4de77f22",
   "metadata": {},
   "outputs": [
    {
     "data": {
      "image/png": "[encoded data removed]",
      "text/plain": [
       "<PIL.Image.Image image mode=RGB size=256x256 at 0x2D382889FA0>"
      ]
     },
     "execution_count": 14,
     "metadata": {},
     "output_type": "execute_result"
    }
   ],
   "source": [
    "# 원본 이미지\n",
    "none_trans[5][0]"
   ]
  },
  {
   "cell_type": "code",
   "execution_count": 15,
   "id": "4e1f412e",
   "metadata": {},
   "outputs": [],
   "source": [
    "trainloader = torch.utils.data.DataLoader(trainset, batch_size=64,\n",
    "                                          shuffle=True, num_workers=0)\n",
    "\n",
    "testloader = torch.utils.data.DataLoader(testset, batch_size=64,\n",
    "                                         shuffle=False, num_workers=0)"
   ]
  },
  {
   "cell_type": "code",
   "execution_count": 16,
   "id": "bd5dbb7b",
   "metadata": {},
   "outputs": [],
   "source": [
    "# import resnet\n",
    "import torchvision.models.resnet as resnet\n",
    "import torch.nn as nn\n",
    "import torch.optim as optim\n",
    "\n",
    "# 미리 정의\n",
    "conv1x1=resnet.conv1x1\n",
    "Bottleneck = resnet.Bottleneck\n",
    "BasicBlock= resnet.BasicBlock"
   ]
  },
  {
   "cell_type": "code",
   "execution_count": 17,
   "id": "bd94fe60",
   "metadata": {},
   "outputs": [],
   "source": [
    "class ResNet(nn.Module):\n",
    "\n",
    "    def __init__(self, block, layers, num_classes=1000, zero_init_residual=True):\n",
    "        super(ResNet, self).__init__()\n",
    "        self.inplanes = 32 # conv1에서 나올 채널의 차원 -> 이미지넷보다 작은 데이터이므로 32로 조정\n",
    "\n",
    "        # inputs = 3x224x224 -> 3x128x128로 바뀜\n",
    "        self.conv1 = nn.Conv2d(3, 32, kernel_size=3, stride=1, padding=1, bias=False) # 마찬가지로 전부 사이즈 조정\n",
    "        self.bn1 = nn.BatchNorm2d(32)\n",
    "        self.relu = nn.ReLU(inplace=True)\n",
    "        self.maxpool = nn.MaxPool2d(kernel_size=3, stride=2, padding=1)\n",
    "        \n",
    "        self.layer1 = self._make_layer(block, 32, layers[0], stride=1) # 3 반복\n",
    "        self.layer2 = self._make_layer(block, 64, layers[1], stride=2) # 4 반복\n",
    "        self.layer3 = self._make_layer(block, 128, layers[2], stride=2) # 6 반복\n",
    "        self.layer4 = self._make_layer(block, 256, layers[3], stride=2) # 3 반복\n",
    "        \n",
    "        self.avgpool = nn.AdaptiveAvgPool2d((1, 1))\n",
    "        self.fc = nn.Linear(256 * block.expansion, num_classes)\n",
    "\n",
    "        for m in self.modules():\n",
    "            if isinstance(m, nn.Conv2d):\n",
    "                nn.init.kaiming_normal_(m.weight, mode='fan_out', nonlinearity='relu')\n",
    "            elif isinstance(m, nn.BatchNorm2d):\n",
    "                nn.init.constant_(m.weight, 1)\n",
    "                nn.init.constant_(m.bias, 0)\n",
    "\n",
    "        # Zero-initialize the last BN in each residual branch,\n",
    "        # so that the residual branch starts with zeros, and each residual block behaves like an identity.\n",
    "        # This improves the model by 0.2~0.3% according to https://arxiv.org/abs/1706.02677\n",
    "        if zero_init_residual:\n",
    "            for m in self.modules():\n",
    "                if isinstance(m, Bottleneck):\n",
    "                    nn.init.constant_(m.bn3.weight, 0)\n",
    "                elif isinstance(m, BasicBlock):\n",
    "                    nn.init.constant_(m.bn2.weight, 0)\n",
    "\n",
    "    def _make_layer(self, block, planes, blocks, stride=1): # planes -> 입력되는 채널 수\n",
    "        downsample = None\n",
    "        if stride != 1 or self.inplanes != planes * block.expansion: \n",
    "            downsample = nn.Sequential(\n",
    "                conv1x1(self.inplanes, planes * block.expansion, stride),\n",
    "                nn.BatchNorm2d(planes * block.expansion),\n",
    "            )\n",
    "\n",
    "        layers = []\n",
    "        layers.append(block(self.inplanes, planes, stride, downsample))\n",
    "        self.inplanes = planes * block.expansion\n",
    "        for _ in range(1, blocks):\n",
    "            layers.append(block(self.inplanes, planes))\n",
    "\n",
    "        return nn.Sequential(*layers)\n",
    "\n",
    "    def forward(self, x):\n",
    "        # input [32, 128, 128] -> [C ,H, W]\n",
    "        x = self.conv1(x)\n",
    "        x = self.bn1(x)\n",
    "        x = self.relu(x)\n",
    "        x = self.maxpool(x)\n",
    "        #x.shape =[32, 64, 64]\n",
    "\n",
    "        x = self.layer1(x)\n",
    "        #x.shape =[128, 64, 64]\n",
    "        x = self.layer2(x)\n",
    "        #x.shape =[256, 32, 32]\n",
    "        x = self.layer3(x)\n",
    "        #x.shape =[512, 16, 16]\n",
    "        x = self.layer4(x)\n",
    "        #x.shape =[1024, 8, 8]\n",
    "        \n",
    "        x = self.avgpool(x)\n",
    "        x = x.view(x.size(0), -1)\n",
    "        x = self.fc(x)\n",
    "\n",
    "        return x"
   ]
  },
  {
   "cell_type": "code",
   "execution_count": 18,
   "id": "251ee709",
   "metadata": {},
   "outputs": [],
   "source": [
    "resnet50 = ResNet(resnet.Bottleneck, [3, 4, 6, 3], 3, True).to(device) \n",
    "# resnet50\n",
    "# 1(conv1) + 9(layer1) + 12(layer2) + 18(layer3) + 9(layer4) +1(fc)= ResNet50"
   ]
  },
  {
   "cell_type": "code",
   "execution_count": 19,
   "id": "f31d9711",
   "metadata": {},
   "outputs": [
    {
     "name": "stdout",
     "output_type": "stream",
     "text": [
      "Requirement already satisfied: torchsummary in c:\\anaconda\\lib\\site-packages (1.5.1)\n"
     ]
    }
   ],
   "source": [
    "!pip install torchsummary"
   ]
  },
  {
   "cell_type": "code",
   "execution_count": 20,
   "id": "52bf6945",
   "metadata": {},
   "outputs": [
    {
     "name": "stdout",
     "output_type": "stream",
     "text": [
      "----------------------------------------------------------------\n",
      "        Layer (type)               Output Shape         Param #\n",
      "================================================================\n",
      "            Conv2d-1         [-1, 32, 128, 128]             864\n",
      "       BatchNorm2d-2         [-1, 32, 128, 128]              64\n",
      "              ReLU-3         [-1, 32, 128, 128]               0\n",
      "         MaxPool2d-4           [-1, 32, 64, 64]               0\n",
      "            Conv2d-5           [-1, 32, 64, 64]           1,024\n",
      "       BatchNorm2d-6           [-1, 32, 64, 64]              64\n",
      "              ReLU-7           [-1, 32, 64, 64]               0\n",
      "            Conv2d-8           [-1, 32, 64, 64]           9,216\n",
      "       BatchNorm2d-9           [-1, 32, 64, 64]              64\n",
      "             ReLU-10           [-1, 32, 64, 64]               0\n",
      "           Conv2d-11          [-1, 128, 64, 64]           4,096\n",
      "      BatchNorm2d-12          [-1, 128, 64, 64]             256\n",
      "           Conv2d-13          [-1, 128, 64, 64]           4,096\n",
      "      BatchNorm2d-14          [-1, 128, 64, 64]             256\n",
      "             ReLU-15          [-1, 128, 64, 64]               0\n",
      "       Bottleneck-16          [-1, 128, 64, 64]               0\n",
      "           Conv2d-17           [-1, 32, 64, 64]           4,096\n",
      "      BatchNorm2d-18           [-1, 32, 64, 64]              64\n",
      "             ReLU-19           [-1, 32, 64, 64]               0\n",
      "           Conv2d-20           [-1, 32, 64, 64]           9,216\n",
      "      BatchNorm2d-21           [-1, 32, 64, 64]              64\n",
      "             ReLU-22           [-1, 32, 64, 64]               0\n",
      "           Conv2d-23          [-1, 128, 64, 64]           4,096\n",
      "      BatchNorm2d-24          [-1, 128, 64, 64]             256\n",
      "             ReLU-25          [-1, 128, 64, 64]               0\n",
      "       Bottleneck-26          [-1, 128, 64, 64]               0\n",
      "           Conv2d-27           [-1, 32, 64, 64]           4,096\n",
      "      BatchNorm2d-28           [-1, 32, 64, 64]              64\n",
      "             ReLU-29           [-1, 32, 64, 64]               0\n",
      "           Conv2d-30           [-1, 32, 64, 64]           9,216\n",
      "      BatchNorm2d-31           [-1, 32, 64, 64]              64\n",
      "             ReLU-32           [-1, 32, 64, 64]               0\n",
      "           Conv2d-33          [-1, 128, 64, 64]           4,096\n",
      "      BatchNorm2d-34          [-1, 128, 64, 64]             256\n",
      "             ReLU-35          [-1, 128, 64, 64]               0\n",
      "       Bottleneck-36          [-1, 128, 64, 64]               0\n",
      "           Conv2d-37           [-1, 64, 64, 64]           8,192\n",
      "      BatchNorm2d-38           [-1, 64, 64, 64]             128\n",
      "             ReLU-39           [-1, 64, 64, 64]               0\n",
      "           Conv2d-40           [-1, 64, 32, 32]          36,864\n",
      "      BatchNorm2d-41           [-1, 64, 32, 32]             128\n",
      "             ReLU-42           [-1, 64, 32, 32]               0\n",
      "           Conv2d-43          [-1, 256, 32, 32]          16,384\n",
      "      BatchNorm2d-44          [-1, 256, 32, 32]             512\n",
      "           Conv2d-45          [-1, 256, 32, 32]          32,768\n",
      "      BatchNorm2d-46          [-1, 256, 32, 32]             512\n",
      "             ReLU-47          [-1, 256, 32, 32]               0\n",
      "       Bottleneck-48          [-1, 256, 32, 32]               0\n",
      "           Conv2d-49           [-1, 64, 32, 32]          16,384\n",
      "      BatchNorm2d-50           [-1, 64, 32, 32]             128\n",
      "             ReLU-51           [-1, 64, 32, 32]               0\n",
      "           Conv2d-52           [-1, 64, 32, 32]          36,864\n",
      "      BatchNorm2d-53           [-1, 64, 32, 32]             128\n",
      "             ReLU-54           [-1, 64, 32, 32]               0\n",
      "           Conv2d-55          [-1, 256, 32, 32]          16,384\n",
      "      BatchNorm2d-56          [-1, 256, 32, 32]             512\n",
      "             ReLU-57          [-1, 256, 32, 32]               0\n",
      "       Bottleneck-58          [-1, 256, 32, 32]               0\n",
      "           Conv2d-59           [-1, 64, 32, 32]          16,384\n",
      "      BatchNorm2d-60           [-1, 64, 32, 32]             128\n",
      "             ReLU-61           [-1, 64, 32, 32]               0\n",
      "           Conv2d-62           [-1, 64, 32, 32]          36,864\n",
      "      BatchNorm2d-63           [-1, 64, 32, 32]             128\n",
      "             ReLU-64           [-1, 64, 32, 32]               0\n",
      "           Conv2d-65          [-1, 256, 32, 32]          16,384\n",
      "      BatchNorm2d-66          [-1, 256, 32, 32]             512\n",
      "             ReLU-67          [-1, 256, 32, 32]               0\n",
      "       Bottleneck-68          [-1, 256, 32, 32]               0\n",
      "           Conv2d-69           [-1, 64, 32, 32]          16,384\n",
      "      BatchNorm2d-70           [-1, 64, 32, 32]             128\n",
      "             ReLU-71           [-1, 64, 32, 32]               0\n",
      "           Conv2d-72           [-1, 64, 32, 32]          36,864\n",
      "      BatchNorm2d-73           [-1, 64, 32, 32]             128\n",
      "             ReLU-74           [-1, 64, 32, 32]               0\n",
      "           Conv2d-75          [-1, 256, 32, 32]          16,384\n",
      "      BatchNorm2d-76          [-1, 256, 32, 32]             512\n",
      "             ReLU-77          [-1, 256, 32, 32]               0\n",
      "       Bottleneck-78          [-1, 256, 32, 32]               0\n",
      "           Conv2d-79          [-1, 128, 32, 32]          32,768\n",
      "      BatchNorm2d-80          [-1, 128, 32, 32]             256\n",
      "             ReLU-81          [-1, 128, 32, 32]               0\n",
      "           Conv2d-82          [-1, 128, 16, 16]         147,456\n",
      "      BatchNorm2d-83          [-1, 128, 16, 16]             256\n",
      "             ReLU-84          [-1, 128, 16, 16]               0\n",
      "           Conv2d-85          [-1, 512, 16, 16]          65,536\n",
      "      BatchNorm2d-86          [-1, 512, 16, 16]           1,024\n",
      "           Conv2d-87          [-1, 512, 16, 16]         131,072\n",
      "      BatchNorm2d-88          [-1, 512, 16, 16]           1,024\n",
      "             ReLU-89          [-1, 512, 16, 16]               0\n",
      "       Bottleneck-90          [-1, 512, 16, 16]               0\n",
      "           Conv2d-91          [-1, 128, 16, 16]          65,536\n",
      "      BatchNorm2d-92          [-1, 128, 16, 16]             256\n",
      "             ReLU-93          [-1, 128, 16, 16]               0\n",
      "           Conv2d-94          [-1, 128, 16, 16]         147,456\n",
      "      BatchNorm2d-95          [-1, 128, 16, 16]             256\n",
      "             ReLU-96          [-1, 128, 16, 16]               0\n",
      "           Conv2d-97          [-1, 512, 16, 16]          65,536\n",
      "      BatchNorm2d-98          [-1, 512, 16, 16]           1,024\n",
      "             ReLU-99          [-1, 512, 16, 16]               0\n",
      "      Bottleneck-100          [-1, 512, 16, 16]               0\n",
      "          Conv2d-101          [-1, 128, 16, 16]          65,536\n",
      "     BatchNorm2d-102          [-1, 128, 16, 16]             256\n",
      "            ReLU-103          [-1, 128, 16, 16]               0\n",
      "          Conv2d-104          [-1, 128, 16, 16]         147,456\n",
      "     BatchNorm2d-105          [-1, 128, 16, 16]             256\n",
      "            ReLU-106          [-1, 128, 16, 16]               0\n",
      "          Conv2d-107          [-1, 512, 16, 16]          65,536\n",
      "     BatchNorm2d-108          [-1, 512, 16, 16]           1,024\n",
      "            ReLU-109          [-1, 512, 16, 16]               0\n",
      "      Bottleneck-110          [-1, 512, 16, 16]               0\n",
      "          Conv2d-111          [-1, 128, 16, 16]          65,536\n",
      "     BatchNorm2d-112          [-1, 128, 16, 16]             256\n",
      "            ReLU-113          [-1, 128, 16, 16]               0\n",
      "          Conv2d-114          [-1, 128, 16, 16]         147,456\n",
      "     BatchNorm2d-115          [-1, 128, 16, 16]             256\n",
      "            ReLU-116          [-1, 128, 16, 16]               0\n",
      "          Conv2d-117          [-1, 512, 16, 16]          65,536\n",
      "     BatchNorm2d-118          [-1, 512, 16, 16]           1,024\n",
      "            ReLU-119          [-1, 512, 16, 16]               0\n",
      "      Bottleneck-120          [-1, 512, 16, 16]               0\n",
      "          Conv2d-121          [-1, 128, 16, 16]          65,536\n",
      "     BatchNorm2d-122          [-1, 128, 16, 16]             256\n",
      "            ReLU-123          [-1, 128, 16, 16]               0\n",
      "          Conv2d-124          [-1, 128, 16, 16]         147,456\n",
      "     BatchNorm2d-125          [-1, 128, 16, 16]             256\n",
      "            ReLU-126          [-1, 128, 16, 16]               0\n",
      "          Conv2d-127          [-1, 512, 16, 16]          65,536\n",
      "     BatchNorm2d-128          [-1, 512, 16, 16]           1,024\n",
      "            ReLU-129          [-1, 512, 16, 16]               0\n",
      "      Bottleneck-130          [-1, 512, 16, 16]               0\n",
      "          Conv2d-131          [-1, 128, 16, 16]          65,536\n",
      "     BatchNorm2d-132          [-1, 128, 16, 16]             256\n",
      "            ReLU-133          [-1, 128, 16, 16]               0\n",
      "          Conv2d-134          [-1, 128, 16, 16]         147,456\n",
      "     BatchNorm2d-135          [-1, 128, 16, 16]             256\n",
      "            ReLU-136          [-1, 128, 16, 16]               0\n",
      "          Conv2d-137          [-1, 512, 16, 16]          65,536\n",
      "     BatchNorm2d-138          [-1, 512, 16, 16]           1,024\n",
      "            ReLU-139          [-1, 512, 16, 16]               0\n",
      "      Bottleneck-140          [-1, 512, 16, 16]               0\n",
      "          Conv2d-141          [-1, 256, 16, 16]         131,072\n",
      "     BatchNorm2d-142          [-1, 256, 16, 16]             512\n",
      "            ReLU-143          [-1, 256, 16, 16]               0\n",
      "          Conv2d-144            [-1, 256, 8, 8]         589,824\n",
      "     BatchNorm2d-145            [-1, 256, 8, 8]             512\n",
      "            ReLU-146            [-1, 256, 8, 8]               0\n",
      "          Conv2d-147           [-1, 1024, 8, 8]         262,144\n",
      "     BatchNorm2d-148           [-1, 1024, 8, 8]           2,048\n",
      "          Conv2d-149           [-1, 1024, 8, 8]         524,288\n",
      "     BatchNorm2d-150           [-1, 1024, 8, 8]           2,048\n",
      "            ReLU-151           [-1, 1024, 8, 8]               0\n",
      "      Bottleneck-152           [-1, 1024, 8, 8]               0\n",
      "          Conv2d-153            [-1, 256, 8, 8]         262,144\n",
      "     BatchNorm2d-154            [-1, 256, 8, 8]             512\n",
      "            ReLU-155            [-1, 256, 8, 8]               0\n",
      "          Conv2d-156            [-1, 256, 8, 8]         589,824\n",
      "     BatchNorm2d-157            [-1, 256, 8, 8]             512\n",
      "            ReLU-158            [-1, 256, 8, 8]               0\n",
      "          Conv2d-159           [-1, 1024, 8, 8]         262,144\n",
      "     BatchNorm2d-160           [-1, 1024, 8, 8]           2,048\n",
      "            ReLU-161           [-1, 1024, 8, 8]               0\n",
      "      Bottleneck-162           [-1, 1024, 8, 8]               0\n",
      "          Conv2d-163            [-1, 256, 8, 8]         262,144\n",
      "     BatchNorm2d-164            [-1, 256, 8, 8]             512\n",
      "            ReLU-165            [-1, 256, 8, 8]               0\n",
      "          Conv2d-166            [-1, 256, 8, 8]         589,824\n",
      "     BatchNorm2d-167            [-1, 256, 8, 8]             512\n",
      "            ReLU-168            [-1, 256, 8, 8]               0\n",
      "          Conv2d-169           [-1, 1024, 8, 8]         262,144\n",
      "     BatchNorm2d-170           [-1, 1024, 8, 8]           2,048\n",
      "            ReLU-171           [-1, 1024, 8, 8]               0\n",
      "      Bottleneck-172           [-1, 1024, 8, 8]               0\n",
      "AdaptiveAvgPool2d-173           [-1, 1024, 1, 1]               0\n",
      "          Linear-174                    [-1, 3]           3,075\n",
      "================================================================\n",
      "Total params: 5,891,875\n",
      "Trainable params: 5,891,875\n",
      "Non-trainable params: 0\n",
      "----------------------------------------------------------------\n",
      "Input size (MB): 0.19\n",
      "Forward/backward pass size (MB): 187.13\n",
      "Params size (MB): 22.48\n",
      "Estimated Total Size (MB): 209.80\n",
      "----------------------------------------------------------------\n"
     ]
    }
   ],
   "source": [
    "# 출력 tensor가 맞는지 확인해보자\n",
    "\n",
    "from torchsummary import summary\n",
    "summary(resnet50, input_size=(3, 128, 128), device=device)"
   ]
  },
  {
   "cell_type": "code",
   "execution_count": 21,
   "id": "6476621b",
   "metadata": {},
   "outputs": [],
   "source": [
    "def imshow(img):\n",
    "    img = img / 2 + 0.5     # unnormalize\n",
    "    npimg = img.numpy()\n",
    "    plt.imshow(np.transpose(npimg, (1, 2, 0)))\n",
    "    plt.show()"
   ]
  },
  {
   "cell_type": "code",
   "execution_count": 22,
   "id": "91e30c44",
   "metadata": {},
   "outputs": [
    {
     "name": "stdout",
     "output_type": "stream",
     "text": [
      "torch.Size([32, 3, 3, 3])\n"
     ]
    },
    {
     "data": {
      "text/plain": [
       "<Figure size 720x720 with 0 Axes>"
      ]
     },
     "execution_count": 22,
     "metadata": {},
     "output_type": "execute_result"
    },
    {
     "data": {
      "text/plain": [
       "<Figure size 720x720 with 0 Axes>"
      ]
     },
     "metadata": {},
     "output_type": "display_data"
    }
   ],
   "source": [
    "# 첫 번째 layer의 filter를 확인해보자 (=가중치 확인) -> 나중에 학습을 완료한 후의 filter도 확인하기\n",
    "for w in resnet50.parameters():\n",
    "    w = w.data.cpu()\n",
    "    print(w.shape)\n",
    "    break\n",
    "\n",
    "# 가중치 renormalization\n",
    "min_w = torch.min(w)\n",
    "w1 = (-1/(2 * min_w)) * w + 0.5\n",
    "\n",
    "# make grid to display it\n",
    "grid_size = len(w1)\n",
    "x_grid = [w1[i] for i in range(grid_size)]\n",
    "x_grid = torchvision.utils.make_grid(x_grid, nrow=6, padding=1)\n",
    "\n",
    "plt.figure(figsize=(10, 10))\n",
    "#imshow(x_grid)"
   ]
  },
  {
   "cell_type": "code",
   "execution_count": 23,
   "id": "c0a9a73d",
   "metadata": {},
   "outputs": [],
   "source": [
    "# config 모델 파라미터 인자를 만들기위한 클래스\n",
    "class Config:\n",
    "    def __init__(self, **kwargs):\n",
    "        for key, value in kwargs.items():\n",
    "            setattr(self, key, value)"
   ]
  },
  {
   "cell_type": "code",
   "execution_count": 24,
   "id": "c3ee061b",
   "metadata": {},
   "outputs": [],
   "source": [
    "lr = 0.0008\n",
    "epochs = 30\n",
    "optimizer = 'Adam'"
   ]
  },
  {
   "cell_type": "code",
   "execution_count": 25,
   "id": "f3944bf1",
   "metadata": {},
   "outputs": [],
   "source": [
    "# 파라미터 클래스\n",
    "config = Config(\n",
    "    trainloader = trainloader,\n",
    "    testloader = testloader,\n",
    "    model = resnet50,\n",
    "    device = device,\n",
    "    optimizer = torch.optim.Adam(resnet50.parameters(), lr=lr),\n",
    "    criterion= nn.CrossEntropyLoss().to(device),\n",
    "    globaliter = 0\n",
    ")"
   ]
  },
  {
   "cell_type": "code",
   "execution_count": 26,
   "id": "4a8ebec6",
   "metadata": {},
   "outputs": [
    {
     "name": "stdout",
     "output_type": "stream",
     "text": [
      "Finished Training\n"
     ]
    }
   ],
   "source": [
    "class train_test():\n",
    "    def __init__(self, config):\n",
    "        # 파라미터 인자\n",
    "        self.trainloader = config.trainloader\n",
    "        self.testloader = config.testloader\n",
    "        self.model = config.model\n",
    "        self.device = config.device\n",
    "        self.optimizer = config.optimizer\n",
    "        self.criterion = config.criterion\n",
    "        self.globaliter = config.globaliter\n",
    "        print(len(trainloader))\n",
    "    def train(self, epochs, log_interval):\n",
    "        self.model.train()\n",
    "        for epoch in range(1, epochs + 1 ):  # epochs 루프\n",
    "            running_loss = 0.0\n",
    "            lr_sche.step()\n",
    "            for i, data in enumerate(self.trainloader, 0): # batch 루프\n",
    "                # get the inputs\n",
    "                self.globaliter += 1\n",
    "                inputs, labels = data # input data, label 분리\n",
    "                inputs = inputs.to(self.device)\n",
    "                labels = labels.to(self.device)\n",
    "\n",
    "                # 가중치 초기화 -> 이전 batch에서 계산되었던 가중치를 0으로 만들고 최적화 진행\n",
    "                self.optimizer.zero_grad() \n",
    "\n",
    "                # forward + backward + optimize\n",
    "                outputs = self.model(inputs)\n",
    "                loss = self.criterion(outputs, labels)\n",
    "                loss.backward()\n",
    "                self.optimizer.step()\n",
    "                running_loss += loss.item()\n",
    "\n",
    "                # 30 iteration마다 acc & loss 출력\n",
    "                if i % log_interval == log_interval -1 : # i는 1에포크의 iteration\n",
    "                    print('Train Epoch: {} [{}/{} ({:.0f}%)]\\tlearningLoss: {:.6f}\\twhole_loss: {:.6f} '.format(\n",
    "                        epoch, i*len(inputs), len(self.trainloader.dataset),\n",
    "                        100. * i*len(inputs) / len(self.trainloader.dataset), \n",
    "                        running_loss / log_interval,\n",
    "                        loss.item()))\n",
    "                    running_loss = 0.0\n",
    "\n",
    "                    #with train_summary_writer.as_default():\n",
    "                    #    summary.scalar('loss', loss.item() , step = self.globaliter)\n",
    "\n",
    "            with torch.no_grad():\n",
    "                self.model.eval()\n",
    "                correct = 0\n",
    "                total = 0\n",
    "                test_loss = 0\n",
    "                acc = []\n",
    "                for k, data in enumerate(self.testloader, 0):\n",
    "                    images, labels = data\n",
    "                    images = images.to(self.device)\n",
    "                    labels = labels.to(self.device)\n",
    "                    outputs = self.model(images)\n",
    "\n",
    "                    _, predicted = torch.max(outputs.data, 1)\n",
    "                    total += labels.size(0)\n",
    "                    correct += (predicted == labels).sum().item()\n",
    "                    test_loss += self.criterion(outputs, labels).item()\n",
    "                    acc.append(100 * correct/total)\n",
    "\n",
    "                print('\\nTest set : Average loss:{:.4f}, Accuracy: {}/{}({:.0f}%)\\n'.format(\n",
    "                  test_loss, correct, total, 100 * correct/total\n",
    "                ))\n",
    "                  #with test_summary_writer.as_default():\n",
    "                  #    summary.scalar('loss', test_loss , step = self.globaliter)\n",
    "                  #    summary.scalar('accuracy', 100 * correct/total , step = self.globaliter)  \n",
    "##                      if acc [k] > 60 and acc[k] > acc[k-1]:\n",
    "#                         torch.save({\n",
    "#                                     'epoch': epoch,\n",
    "#                                     'model_state_dict': self.model.state_dict(),\n",
    "#                                     'optimizer_state_dict': self.optimizer.state_dict(),\n",
    "#                                     'loss': test_loss\n",
    "#                                     }, PATH)\n",
    "                         \n",
    "    print('Finished Training')"
   ]
  },
  {
   "cell_type": "code",
   "execution_count": 27,
   "id": "6df9bb64",
   "metadata": {},
   "outputs": [
    {
     "name": "stdout",
     "output_type": "stream",
     "text": [
      "15\n"
     ]
    }
   ],
   "source": [
    "ready_to_train=train_test(config)"
   ]
  },
  {
   "cell_type": "code",
   "execution_count": 28,
   "id": "399a3cf3",
   "metadata": {},
   "outputs": [
    {
     "name": "stderr",
     "output_type": "stream",
     "text": [
      "C:\\ANACONDA\\lib\\site-packages\\torch\\optim\\lr_scheduler.py:131: UserWarning: Detected call of `lr_scheduler.step()` before `optimizer.step()`. In PyTorch 1.1.0 and later, you should call them in the opposite order: `optimizer.step()` before `lr_scheduler.step()`.  Failure to do this will result in PyTorch skipping the first value of the learning rate schedule. See more details at https://pytorch.org/docs/stable/optim.html#how-to-adjust-learning-rate\n",
      "  warnings.warn(\"Detected call of `lr_scheduler.step()` before `optimizer.step()`. \"\n"
     ]
    },
    {
     "name": "stdout",
     "output_type": "stream",
     "text": [
      "\n",
      "Test set : Average loss:4.2594, Accuracy: 112/233(48%)\n",
      "\n",
      "\n",
      "Test set : Average loss:4.3954, Accuracy: 113/233(48%)\n",
      "\n",
      "\n",
      "Test set : Average loss:4.2224, Accuracy: 112/233(48%)\n",
      "\n",
      "\n",
      "Test set : Average loss:4.0731, Accuracy: 123/233(53%)\n",
      "\n",
      "\n",
      "Test set : Average loss:4.0000, Accuracy: 130/233(56%)\n",
      "\n",
      "\n",
      "Test set : Average loss:3.9726, Accuracy: 127/233(55%)\n",
      "\n",
      "\n",
      "Test set : Average loss:4.0563, Accuracy: 128/233(55%)\n",
      "\n",
      "\n",
      "Test set : Average loss:3.9311, Accuracy: 139/233(60%)\n",
      "\n",
      "\n",
      "Test set : Average loss:3.9048, Accuracy: 130/233(56%)\n",
      "\n",
      "\n",
      "Test set : Average loss:3.7691, Accuracy: 146/233(63%)\n",
      "\n",
      "\n",
      "Test set : Average loss:3.9581, Accuracy: 130/233(56%)\n",
      "\n",
      "\n",
      "Test set : Average loss:3.7850, Accuracy: 145/233(62%)\n",
      "\n",
      "\n",
      "Test set : Average loss:3.6128, Accuracy: 152/233(65%)\n",
      "\n",
      "\n",
      "Test set : Average loss:4.1406, Accuracy: 120/233(52%)\n",
      "\n",
      "\n",
      "Test set : Average loss:4.0604, Accuracy: 139/233(60%)\n",
      "\n",
      "\n",
      "Test set : Average loss:3.6156, Accuracy: 145/233(62%)\n",
      "\n",
      "\n",
      "Test set : Average loss:3.8701, Accuracy: 152/233(65%)\n",
      "\n",
      "\n",
      "Test set : Average loss:4.2207, Accuracy: 129/233(55%)\n",
      "\n",
      "\n",
      "Test set : Average loss:3.6781, Accuracy: 151/233(65%)\n",
      "\n",
      "\n",
      "Test set : Average loss:3.8408, Accuracy: 150/233(64%)\n",
      "\n",
      "\n",
      "Test set : Average loss:3.8011, Accuracy: 139/233(60%)\n",
      "\n",
      "\n",
      "Test set : Average loss:3.7613, Accuracy: 149/233(64%)\n",
      "\n",
      "\n",
      "Test set : Average loss:4.5409, Accuracy: 123/233(53%)\n",
      "\n",
      "\n",
      "Test set : Average loss:3.8091, Accuracy: 146/233(63%)\n",
      "\n",
      "\n",
      "Test set : Average loss:3.6836, Accuracy: 128/233(55%)\n",
      "\n",
      "\n",
      "Test set : Average loss:3.6454, Accuracy: 147/233(63%)\n",
      "\n",
      "\n",
      "Test set : Average loss:3.8994, Accuracy: 137/233(59%)\n",
      "\n",
      "\n",
      "Test set : Average loss:3.4371, Accuracy: 158/233(68%)\n",
      "\n",
      "\n",
      "Test set : Average loss:4.1428, Accuracy: 139/233(60%)\n",
      "\n",
      "\n",
      "Test set : Average loss:3.9122, Accuracy: 132/233(57%)\n",
      "\n",
      "\n",
      "Test set : Average loss:3.7429, Accuracy: 143/233(61%)\n",
      "\n",
      "\n",
      "Test set : Average loss:3.6720, Accuracy: 132/233(57%)\n",
      "\n",
      "\n",
      "Test set : Average loss:3.6711, Accuracy: 147/233(63%)\n",
      "\n",
      "\n",
      "Test set : Average loss:3.3740, Accuracy: 161/233(69%)\n",
      "\n",
      "\n",
      "Test set : Average loss:3.5043, Accuracy: 147/233(63%)\n",
      "\n",
      "\n",
      "Test set : Average loss:3.7412, Accuracy: 145/233(62%)\n",
      "\n",
      "\n",
      "Test set : Average loss:3.8603, Accuracy: 129/233(55%)\n",
      "\n",
      "\n",
      "Test set : Average loss:3.1580, Accuracy: 161/233(69%)\n",
      "\n",
      "\n",
      "Test set : Average loss:3.5968, Accuracy: 147/233(63%)\n",
      "\n",
      "\n",
      "Test set : Average loss:3.7657, Accuracy: 145/233(62%)\n",
      "\n",
      "\n",
      "Test set : Average loss:4.0801, Accuracy: 134/233(58%)\n",
      "\n",
      "\n",
      "Test set : Average loss:3.4403, Accuracy: 153/233(66%)\n",
      "\n",
      "\n",
      "Test set : Average loss:3.3780, Accuracy: 158/233(68%)\n",
      "\n",
      "\n",
      "Test set : Average loss:3.4163, Accuracy: 148/233(64%)\n",
      "\n",
      "\n",
      "Test set : Average loss:3.1827, Accuracy: 162/233(70%)\n",
      "\n",
      "\n",
      "Test set : Average loss:3.4564, Accuracy: 148/233(64%)\n",
      "\n",
      "\n",
      "Test set : Average loss:3.3307, Accuracy: 153/233(66%)\n",
      "\n",
      "\n",
      "Test set : Average loss:3.6741, Accuracy: 139/233(60%)\n",
      "\n",
      "\n",
      "Test set : Average loss:3.1197, Accuracy: 166/233(71%)\n",
      "\n",
      "\n",
      "Test set : Average loss:3.5343, Accuracy: 157/233(67%)\n",
      "\n"
     ]
    }
   ],
   "source": [
    "lr_sche = optim.lr_scheduler.StepLR(config.optimizer, step_size=1000, gamma=0.5) # 20 step마다 lr조정\n",
    "epochs = 50\n",
    "log_interval = 175\n",
    "\n",
    "ready_to_train.train(epochs, log_interval)"
   ]
  },
  {
   "cell_type": "code",
   "execution_count": 29,
   "id": "9126442f",
   "metadata": {},
   "outputs": [],
   "source": [
    "# 마지막 커널은 돌리다가 너무 오래걸려서 중지함"
   ]
  },
  {
   "cell_type": "code",
   "execution_count": null,
   "id": "6fd9d1ea",
   "metadata": {},
   "outputs": [],
   "source": []
  }
 ],
 "metadata": {
  "kernelspec": {
   "display_name": "Python 3 (ipykernel)",
   "language": "python",
   "name": "python3"
  },
  "language_info": {
   "codemirror_mode": {
    "name": "ipython",
    "version": 3
   },
   "file_extension": ".py",
   "mimetype": "text/x-python",
   "name": "python",
   "nbconvert_exporter": "python",
   "pygments_lexer": "ipython3",
   "version": "3.9.7"
  }
 },
 "nbformat": 4,
 "nbformat_minor": 5
}
